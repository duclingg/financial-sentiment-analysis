{
 "cells": [
  {
   "cell_type": "markdown",
   "metadata": {},
   "source": [
    "## Preprocess Text\n",
    "***This is a crucial***  \n",
    "Proprocessing helps clean and normalize the text data making it more suitable for analysis.  \n",
    "\n",
    "After getting the articles, I can now preprocess the text in the articles.    \n"
   ]
  },
  {
   "cell_type": "markdown",
   "metadata": {},
   "source": [
    "### Data Cleaning "
   ]
  },
  {
   "cell_type": "code",
   "execution_count": 97,
   "metadata": {},
   "outputs": [],
   "source": [
    "# import pandas\n",
    "import pandas as pd"
   ]
  },
  {
   "cell_type": "code",
   "execution_count": 98,
   "metadata": {},
   "outputs": [],
   "source": [
    "# import re package (regular expressions)\n",
    "import re"
   ]
  },
  {
   "cell_type": "code",
   "execution_count": 99,
   "metadata": {},
   "outputs": [],
   "source": [
    "# import beautiful soup package\n",
    "from bs4 import BeautifulSoup"
   ]
  },
  {
   "cell_type": "code",
   "execution_count": 100,
   "metadata": {},
   "outputs": [],
   "source": [
    "def clean_text(text):\n",
    "    if pd.isna(text):\n",
    "        return \"\"\n",
    "    \n",
    "    text = BeautifulSoup(text, \"html.parser\").get_text()\n",
    "    \n",
    "    text = re.sub(r'[^a-zA-Z\\s]', '', text)\n",
    "    \n",
    "    text = ' '.join(text.split())\n",
    "    \n",
    "    return text"
   ]
  },
  {
   "cell_type": "code",
   "execution_count": 101,
   "metadata": {},
   "outputs": [],
   "source": [
    "extracted_articles_df = pd.read_csv(\"../DataFrames/extracted_articles_df.tsv\")"
   ]
  },
  {
   "cell_type": "code",
   "execution_count": 102,
   "metadata": {},
   "outputs": [
    {
     "data": {
      "text/html": [
       "<div>\n",
       "<style scoped>\n",
       "    .dataframe tbody tr th:only-of-type {\n",
       "        vertical-align: middle;\n",
       "    }\n",
       "\n",
       "    .dataframe tbody tr th {\n",
       "        vertical-align: top;\n",
       "    }\n",
       "\n",
       "    .dataframe thead th {\n",
       "        text-align: right;\n",
       "    }\n",
       "</style>\n",
       "<table border=\"1\" class=\"dataframe\">\n",
       "  <thead>\n",
       "    <tr style=\"text-align: right;\">\n",
       "      <th></th>\n",
       "      <th>title</th>\n",
       "      <th>content</th>\n",
       "      <th>publishedAt</th>\n",
       "    </tr>\n",
       "  </thead>\n",
       "  <tbody>\n",
       "    <tr>\n",
       "      <th>0</th>\n",
       "      <td>DOJ subpoenas NVIDIA as part of antitrust prob...</td>\n",
       "      <td>If you click 'Accept all', we and our partners...</td>\n",
       "      <td>2024-09-04T15:34:35Z</td>\n",
       "    </tr>\n",
       "    <tr>\n",
       "      <th>1</th>\n",
       "      <td>The Leaked Nvidia RTX 5090 Has So Many Cores I...</td>\n",
       "      <td>The GeForce RTX 4090 is already so big that an...</td>\n",
       "      <td>2024-09-27T13:35:22Z</td>\n",
       "    </tr>\n",
       "    <tr>\n",
       "      <th>2</th>\n",
       "      <td>ByteDance will reportedly use Huawei chips to ...</td>\n",
       "      <td>If you click 'Accept all', we and our partners...</td>\n",
       "      <td>2024-09-30T15:48:46Z</td>\n",
       "    </tr>\n",
       "    <tr>\n",
       "      <th>3</th>\n",
       "      <td>This chart shows one potential advantage AWS's...</td>\n",
       "      <td>Noah Berger/Getty Images\\r\\n&lt;ul&gt;&lt;li&gt;Big tech c...</td>\n",
       "      <td>2024-09-26T09:00:02Z</td>\n",
       "    </tr>\n",
       "    <tr>\n",
       "      <th>4</th>\n",
       "      <td>Nvidia's days of absolute dominance in AI coul...</td>\n",
       "      <td>Rodrigo Liang, CEO and co-founder of SambaNova...</td>\n",
       "      <td>2024-09-26T09:00:02Z</td>\n",
       "    </tr>\n",
       "    <tr>\n",
       "      <th>...</th>\n",
       "      <td>...</td>\n",
       "      <td>...</td>\n",
       "      <td>...</td>\n",
       "    </tr>\n",
       "    <tr>\n",
       "      <th>94</th>\n",
       "      <td>Nvidia is back in the $3 trillion club — and J...</td>\n",
       "      <td>In This Story\\r\\nNvidia (NVDA) chief executive...</td>\n",
       "      <td>2024-09-26T12:25:00Z</td>\n",
       "    </tr>\n",
       "    <tr>\n",
       "      <th>95</th>\n",
       "      <td>Sony confirms PS5 Pro has next-gen ray-tracing...</td>\n",
       "      <td>When you buy through links on our articles, Fu...</td>\n",
       "      <td>2024-09-13T10:29:30Z</td>\n",
       "    </tr>\n",
       "    <tr>\n",
       "      <th>96</th>\n",
       "      <td>Acer's formidable new Predator Orion 7000 desk...</td>\n",
       "      <td>What you need to know\\r\\n&lt;ul&gt;&lt;li&gt;Acer announce...</td>\n",
       "      <td>2024-09-04T13:00:58Z</td>\n",
       "    </tr>\n",
       "    <tr>\n",
       "      <th>97</th>\n",
       "      <td>LG’s entry-level OLED is a great gaming TV — a...</td>\n",
       "      <td>If you’ve been curious about buying an OLED TV...</td>\n",
       "      <td>2024-09-19T14:20:58Z</td>\n",
       "    </tr>\n",
       "    <tr>\n",
       "      <th>98</th>\n",
       "      <td>China is \"the first to train a single generati...</td>\n",
       "      <td>What you need to know\\r\\n&lt;ul&gt;&lt;li&gt;Tech industry...</td>\n",
       "      <td>2024-09-30T14:36:51Z</td>\n",
       "    </tr>\n",
       "  </tbody>\n",
       "</table>\n",
       "<p>99 rows × 3 columns</p>\n",
       "</div>"
      ],
      "text/plain": [
       "                                                title  \\\n",
       "0   DOJ subpoenas NVIDIA as part of antitrust prob...   \n",
       "1   The Leaked Nvidia RTX 5090 Has So Many Cores I...   \n",
       "2   ByteDance will reportedly use Huawei chips to ...   \n",
       "3   This chart shows one potential advantage AWS's...   \n",
       "4   Nvidia's days of absolute dominance in AI coul...   \n",
       "..                                                ...   \n",
       "94  Nvidia is back in the $3 trillion club — and J...   \n",
       "95  Sony confirms PS5 Pro has next-gen ray-tracing...   \n",
       "96  Acer's formidable new Predator Orion 7000 desk...   \n",
       "97  LG’s entry-level OLED is a great gaming TV — a...   \n",
       "98  China is \"the first to train a single generati...   \n",
       "\n",
       "                                              content           publishedAt  \n",
       "0   If you click 'Accept all', we and our partners...  2024-09-04T15:34:35Z  \n",
       "1   The GeForce RTX 4090 is already so big that an...  2024-09-27T13:35:22Z  \n",
       "2   If you click 'Accept all', we and our partners...  2024-09-30T15:48:46Z  \n",
       "3   Noah Berger/Getty Images\\r\\n<ul><li>Big tech c...  2024-09-26T09:00:02Z  \n",
       "4   Rodrigo Liang, CEO and co-founder of SambaNova...  2024-09-26T09:00:02Z  \n",
       "..                                                ...                   ...  \n",
       "94  In This Story\\r\\nNvidia (NVDA) chief executive...  2024-09-26T12:25:00Z  \n",
       "95  When you buy through links on our articles, Fu...  2024-09-13T10:29:30Z  \n",
       "96  What you need to know\\r\\n<ul><li>Acer announce...  2024-09-04T13:00:58Z  \n",
       "97  If you’ve been curious about buying an OLED TV...  2024-09-19T14:20:58Z  \n",
       "98  What you need to know\\r\\n<ul><li>Tech industry...  2024-09-30T14:36:51Z  \n",
       "\n",
       "[99 rows x 3 columns]"
      ]
     },
     "execution_count": 102,
     "metadata": {},
     "output_type": "execute_result"
    }
   ],
   "source": [
    "extracted_articles_df"
   ]
  },
  {
   "cell_type": "code",
   "execution_count": 103,
   "metadata": {},
   "outputs": [],
   "source": [
    "cleaned_articles_df = pd.DataFrame()"
   ]
  },
  {
   "cell_type": "code",
   "execution_count": 106,
   "metadata": {},
   "outputs": [
    {
     "name": "stderr",
     "output_type": "stream",
     "text": [
      "/var/folders/pt/_3pv06z57s3_j0w3tq9l60p80000gn/T/ipykernel_50364/3886072331.py:5: MarkupResemblesLocatorWarning: The input looks more like a filename than markup. You may want to open this file and pass the filehandle into Beautiful Soup.\n",
      "  text = BeautifulSoup(text, \"html.parser\").get_text()\n"
     ]
    }
   ],
   "source": [
    "cleaned_articles_df['title'] = extracted_articles_df['title'].apply(clean_text)\n",
    "cleaned_articles_df['content'] = extracted_articles_df['content'].apply(clean_text)\n",
    "cleaned_articles_df['publishedAt'] = extracted_articles_df['publishedAt']"
   ]
  },
  {
   "cell_type": "code",
   "execution_count": 107,
   "metadata": {},
   "outputs": [
    {
     "data": {
      "text/html": [
       "<div>\n",
       "<style scoped>\n",
       "    .dataframe tbody tr th:only-of-type {\n",
       "        vertical-align: middle;\n",
       "    }\n",
       "\n",
       "    .dataframe tbody tr th {\n",
       "        vertical-align: top;\n",
       "    }\n",
       "\n",
       "    .dataframe thead th {\n",
       "        text-align: right;\n",
       "    }\n",
       "</style>\n",
       "<table border=\"1\" class=\"dataframe\">\n",
       "  <thead>\n",
       "    <tr style=\"text-align: right;\">\n",
       "      <th></th>\n",
       "      <th>title</th>\n",
       "      <th>content</th>\n",
       "      <th>publishedAt</th>\n",
       "    </tr>\n",
       "  </thead>\n",
       "  <tbody>\n",
       "    <tr>\n",
       "      <th>0</th>\n",
       "      <td>DOJ subpoenas NVIDIA as part of antitrust prob...</td>\n",
       "      <td>If you click Accept all we and our partners in...</td>\n",
       "      <td>2024-09-04T15:34:35Z</td>\n",
       "    </tr>\n",
       "    <tr>\n",
       "      <th>1</th>\n",
       "      <td>The Leaked Nvidia RTX Has So Many Cores It Act...</td>\n",
       "      <td>The GeForce RTX is already so big that any PC ...</td>\n",
       "      <td>2024-09-27T13:35:22Z</td>\n",
       "    </tr>\n",
       "    <tr>\n",
       "      <th>2</th>\n",
       "      <td>ByteDance will reportedly use Huawei chips to ...</td>\n",
       "      <td>If you click Accept all we and our partners in...</td>\n",
       "      <td>2024-09-30T15:48:46Z</td>\n",
       "    </tr>\n",
       "    <tr>\n",
       "      <th>3</th>\n",
       "      <td>This chart shows one potential advantage AWSs ...</td>\n",
       "      <td>Noah BergerGetty Images Big tech cloud provide...</td>\n",
       "      <td>2024-09-26T09:00:02Z</td>\n",
       "    </tr>\n",
       "    <tr>\n",
       "      <th>4</th>\n",
       "      <td>Nvidias days of absolute dominance in AI could...</td>\n",
       "      <td>Rodrigo Liang CEO and cofounder of SambaNova S...</td>\n",
       "      <td>2024-09-26T09:00:02Z</td>\n",
       "    </tr>\n",
       "    <tr>\n",
       "      <th>...</th>\n",
       "      <td>...</td>\n",
       "      <td>...</td>\n",
       "      <td>...</td>\n",
       "    </tr>\n",
       "    <tr>\n",
       "      <th>94</th>\n",
       "      <td>Nvidia is back in the trillion club and Jensen...</td>\n",
       "      <td>In This Story Nvidia NVDA chief executive Jens...</td>\n",
       "      <td>2024-09-26T12:25:00Z</td>\n",
       "    </tr>\n",
       "    <tr>\n",
       "      <th>95</th>\n",
       "      <td>Sony confirms PS Pro has nextgen raytracing te...</td>\n",
       "      <td>When you buy through links on our articles Fut...</td>\n",
       "      <td>2024-09-13T10:29:30Z</td>\n",
       "    </tr>\n",
       "    <tr>\n",
       "      <th>96</th>\n",
       "      <td>Acers formidable new Predator Orion desktop ca...</td>\n",
       "      <td>What you need to know Acer announced two new g...</td>\n",
       "      <td>2024-09-04T13:00:58Z</td>\n",
       "    </tr>\n",
       "    <tr>\n",
       "      <th>97</th>\n",
       "      <td>LGs entrylevel OLED is a great gaming TV and a...</td>\n",
       "      <td>If youve been curious about buying an OLED TV ...</td>\n",
       "      <td>2024-09-19T14:20:58Z</td>\n",
       "    </tr>\n",
       "    <tr>\n",
       "      <th>98</th>\n",
       "      <td>China is the first to train a single generativ...</td>\n",
       "      <td>What you need to know Tech industry analyst Pa...</td>\n",
       "      <td>2024-09-30T14:36:51Z</td>\n",
       "    </tr>\n",
       "  </tbody>\n",
       "</table>\n",
       "<p>99 rows × 3 columns</p>\n",
       "</div>"
      ],
      "text/plain": [
       "                                                title  \\\n",
       "0   DOJ subpoenas NVIDIA as part of antitrust prob...   \n",
       "1   The Leaked Nvidia RTX Has So Many Cores It Act...   \n",
       "2   ByteDance will reportedly use Huawei chips to ...   \n",
       "3   This chart shows one potential advantage AWSs ...   \n",
       "4   Nvidias days of absolute dominance in AI could...   \n",
       "..                                                ...   \n",
       "94  Nvidia is back in the trillion club and Jensen...   \n",
       "95  Sony confirms PS Pro has nextgen raytracing te...   \n",
       "96  Acers formidable new Predator Orion desktop ca...   \n",
       "97  LGs entrylevel OLED is a great gaming TV and a...   \n",
       "98  China is the first to train a single generativ...   \n",
       "\n",
       "                                              content           publishedAt  \n",
       "0   If you click Accept all we and our partners in...  2024-09-04T15:34:35Z  \n",
       "1   The GeForce RTX is already so big that any PC ...  2024-09-27T13:35:22Z  \n",
       "2   If you click Accept all we and our partners in...  2024-09-30T15:48:46Z  \n",
       "3   Noah BergerGetty Images Big tech cloud provide...  2024-09-26T09:00:02Z  \n",
       "4   Rodrigo Liang CEO and cofounder of SambaNova S...  2024-09-26T09:00:02Z  \n",
       "..                                                ...                   ...  \n",
       "94  In This Story Nvidia NVDA chief executive Jens...  2024-09-26T12:25:00Z  \n",
       "95  When you buy through links on our articles Fut...  2024-09-13T10:29:30Z  \n",
       "96  What you need to know Acer announced two new g...  2024-09-04T13:00:58Z  \n",
       "97  If youve been curious about buying an OLED TV ...  2024-09-19T14:20:58Z  \n",
       "98  What you need to know Tech industry analyst Pa...  2024-09-30T14:36:51Z  \n",
       "\n",
       "[99 rows x 3 columns]"
      ]
     },
     "execution_count": 107,
     "metadata": {},
     "output_type": "execute_result"
    }
   ],
   "source": [
    "cleaned_articles_df"
   ]
  },
  {
   "cell_type": "code",
   "execution_count": 109,
   "metadata": {},
   "outputs": [],
   "source": [
    "cleaned_articles_df['publishedAt'] = pd.to_datetime(cleaned_articles_df['publishedAt'])"
   ]
  },
  {
   "cell_type": "code",
   "execution_count": 110,
   "metadata": {},
   "outputs": [],
   "source": [
    "cleaned_articles_df['publishedAt'] = cleaned_articles_df['publishedAt'].dt.date"
   ]
  },
  {
   "cell_type": "code",
   "execution_count": 111,
   "metadata": {},
   "outputs": [],
   "source": [
    "# import os package\n",
    "import os"
   ]
  },
  {
   "cell_type": "code",
   "execution_count": 112,
   "metadata": {},
   "outputs": [],
   "source": [
    "cleaned_articles_df.to_csv(os.path.join('../DataFrames', 'cleaned_articles_df.tsv'), index=False)"
   ]
  }
 ],
 "metadata": {
  "kernelspec": {
   "display_name": ".venv",
   "language": "python",
   "name": "python3"
  },
  "language_info": {
   "codemirror_mode": {
    "name": "ipython",
    "version": 3
   },
   "file_extension": ".py",
   "mimetype": "text/x-python",
   "name": "python",
   "nbconvert_exporter": "python",
   "pygments_lexer": "ipython3",
   "version": "3.11.5"
  }
 },
 "nbformat": 4,
 "nbformat_minor": 2
}
