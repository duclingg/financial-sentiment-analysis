{
 "cells": [
  {
   "cell_type": "markdown",
   "metadata": {},
   "source": [
    "# Correlation Analysis\n",
    "\n",
    "After cleaning our data, and gathering the stock price of the corresponding company, we can begin our correlation analysis to build and train our model.  \n",
    "\n",
    "We will begin building our model by finding the correlation between the sentiment of specific articles and the change in stock price from the next day. "
   ]
  },
  {
   "cell_type": "markdown",
   "metadata": {},
   "source": []
  }
 ],
 "metadata": {
  "language_info": {
   "name": "python"
  }
 },
 "nbformat": 4,
 "nbformat_minor": 2
}
