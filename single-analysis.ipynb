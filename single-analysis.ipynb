{
 "cells": [
  {
   "cell_type": "markdown",
   "metadata": {},
   "source": [
    "# Financial Sentiment Analysis (Single)\n",
    "\n",
    "In this program, I run a sentiment analysis of a single company based on financial news articles.\n",
    "\n",
    "The company that I am targeting is Nvidia [NVDA]"
   ]
  },
  {
   "cell_type": "code",
   "execution_count": 161,
   "metadata": {},
   "outputs": [],
   "source": [
    "import os"
   ]
  },
  {
   "cell_type": "code",
   "execution_count": 162,
   "metadata": {},
   "outputs": [
    {
     "data": {
      "text/plain": [
       "'2.2.2'"
      ]
     },
     "execution_count": 162,
     "metadata": {},
     "output_type": "execute_result"
    }
   ],
   "source": [
    "import pandas as pd\n",
    "pd.__version__"
   ]
  },
  {
   "cell_type": "code",
   "execution_count": 163,
   "metadata": {},
   "outputs": [],
   "source": [
    "from newsapi.newsapi_client import NewsApiClient"
   ]
  },
  {
   "cell_type": "code",
   "execution_count": 164,
   "metadata": {},
   "outputs": [],
   "source": [
    "# init newsapi\n",
    "newsapi = NewsApiClient(api_key=os.getenv('NEWS_API_KEY'))"
   ]
  },
  {
   "cell_type": "code",
   "execution_count": 165,
   "metadata": {},
   "outputs": [],
   "source": [
    "# fetch articles\n",
    "all_articles = newsapi.get_everything(q='Nvidia',\n",
    "                                      language='en')"
   ]
  },
  {
   "cell_type": "code",
   "execution_count": 166,
   "metadata": {},
   "outputs": [],
   "source": [
    "# filter articles that are valid only\n",
    "# valid meaning: article exists and description of article exists\n",
    "def filter_removed_articles(articles):\n",
    "    return [article for article in articles if article.get('title') != '[Removed]']"
   ]
  },
  {
   "cell_type": "code",
   "execution_count": 167,
   "metadata": {},
   "outputs": [],
   "source": [
    "valid_articles = filter_removed_articles(all_articles['articles'])"
   ]
  },
  {
   "cell_type": "code",
   "execution_count": 168,
   "metadata": {},
   "outputs": [
    {
     "name": "stdout",
     "output_type": "stream",
     "text": [
      "                                               title\n",
      "0  DOJ subpoenas NVIDIA as part of antitrust prob...\n",
      "1  Nvidia might actually lose in this key part of...\n",
      "2  Nvidia CEO Jensen Huang says the payback on AI...\n",
      "3  Stock market today: Dow hits record high while...\n",
      "4  Nvidia Hit With DOJ Subpoena In Escalating Ant...\n"
     ]
    }
   ],
   "source": [
    "valid_articles_df = pd.DataFrame(valid_articles)\n",
    "print(valid_articles_df[['title']].head())"
   ]
  },
  {
   "cell_type": "code",
   "execution_count": 169,
   "metadata": {},
   "outputs": [],
   "source": [
    "# extract only the title, description, and content from the articles\n",
    "def extract_article_essentials(articles):\n",
    "    return [{'title': article['title'], 'descripton': article['description'], 'content': article['content']} for article in articles]"
   ]
  },
  {
   "cell_type": "code",
   "execution_count": 170,
   "metadata": {},
   "outputs": [],
   "source": [
    "articles = extract_article_essentials(valid_articles)"
   ]
  },
  {
   "cell_type": "code",
   "execution_count": 171,
   "metadata": {},
   "outputs": [
    {
     "name": "stdout",
     "output_type": "stream",
     "text": [
      "                                               title\n",
      "0  DOJ subpoenas NVIDIA as part of antitrust prob...\n",
      "1  Nvidia might actually lose in this key part of...\n",
      "2  Nvidia CEO Jensen Huang says the payback on AI...\n",
      "3  Stock market today: Dow hits record high while...\n",
      "4  Nvidia Hit With DOJ Subpoena In Escalating Ant...\n"
     ]
    }
   ],
   "source": [
    "# create a data frame of the articles with essentials only\n",
    "articles_df = pd.DataFrame(articles)\n",
    "print(articles_df[['title']].head())"
   ]
  },
  {
   "cell_type": "code",
   "execution_count": 172,
   "metadata": {},
   "outputs": [],
   "source": [
    "# import nltk package (Natural Language Toolkit)\n",
    "import nltk"
   ]
  },
  {
   "cell_type": "code",
   "execution_count": 173,
   "metadata": {},
   "outputs": [
    {
     "name": "stderr",
     "output_type": "stream",
     "text": [
      "2024-09-23 22:56:47.110 Python[82994:3823259] WARNING: Secure coding is not enabled for restorable state! Enable secure coding by implementing NSApplicationDelegate.applicationSupportsSecureRestorableState: and returning YES.\n"
     ]
    },
    {
     "name": "stdout",
     "output_type": "stream",
     "text": [
      "showing info https://raw.githubusercontent.com/nltk/nltk_data/gh-pages/index.xml\n"
     ]
    },
    {
     "data": {
      "text/plain": [
       "True"
      ]
     },
     "execution_count": 173,
     "metadata": {},
     "output_type": "execute_result"
    }
   ],
   "source": [
    "# download nltk data downloader\n",
    "nltk.download()"
   ]
  }
 ],
 "metadata": {
  "kernelspec": {
   "display_name": ".venv",
   "language": "python",
   "name": "python3"
  },
  "language_info": {
   "codemirror_mode": {
    "name": "ipython",
    "version": 3
   },
   "file_extension": ".py",
   "mimetype": "text/x-python",
   "name": "python",
   "nbconvert_exporter": "python",
   "pygments_lexer": "ipython3",
   "version": "3.11.5"
  }
 },
 "nbformat": 4,
 "nbformat_minor": 2
}
